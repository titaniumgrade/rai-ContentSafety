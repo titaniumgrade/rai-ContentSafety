{
 "cells": [
  {
   "cell_type": "markdown",
   "metadata": {},
   "source": [
    "# How to analyze text using Azure Content Safety API"
   ]
  },
  {
   "cell_type": "markdown",
   "metadata": {},
   "source": [
    "Import the necessary libraries for Content Safety"
   ]
  },
  {
   "cell_type": "code",
   "execution_count": null,
   "metadata": {},
   "outputs": [],
   "source": [
    "import os\n",
    "import json\n",
    "from dotenv import load_dotenv\n",
    "from azure.ai.contentsafety import ContentSafetyClient\n",
    "from azure.core.credentials import AzureKeyCredential\n",
    "from azure.core.exceptions import HttpResponseError\n",
    "from azure.ai.contentsafety.models import AnalyzeTextOptions\n",
    "from azure.ai.contentsafety.models import TextCategory\n"
   ]
  },
  {
   "cell_type": "markdown",
   "metadata": {},
   "source": [
    "Set key and endpoint for your content safety API"
   ]
  },
  {
   "cell_type": "code",
   "execution_count": null,
   "metadata": {},
   "outputs": [],
   "source": [
    "endpoint_url=os.environ[\"AZURE_CONTENTSAFETY_ENDPOINT\"]\n",
    "credential_key=AzureKeyCredential(os.environ[\"AZURE_CONTENTSAFETY_KEY\"])"
   ]
  },
  {
   "cell_type": "markdown",
   "metadata": {},
   "source": [
    "Create a Content Safety client and authenticate with Azure Key Credential"
   ]
  },
  {
   "cell_type": "code",
   "execution_count": null,
   "metadata": {},
   "outputs": [],
   "source": [
    "client = ContentSafetyClient(\n",
    "    endpoint=endpoint_url,\n",
    "    credential=credential_key\n",
    ")"
   ]
  },
  {
   "cell_type": "code",
   "execution_count": null,
   "metadata": {},
   "outputs": [],
   "source": [
    "input_text = \"You are stupid\""
   ]
  },
  {
   "cell_type": "markdown",
   "metadata": {},
   "source": [
    "Construct the request body for analyzing a text"
   ]
  },
  {
   "cell_type": "code",
   "execution_count": null,
   "metadata": {},
   "outputs": [],
   "source": [
    "request = AnalyzeTextOptions(text=input_text)"
   ]
  },
  {
   "cell_type": "markdown",
   "metadata": {},
   "source": [
    "Call the content safety API to analyze a text"
   ]
  },
  {
   "cell_type": "code",
   "execution_count": null,
   "metadata": {},
   "outputs": [],
   "source": [
    "# Analyze text\n",
    "try:\n",
    "    response = client.analyze_text(request)\n",
    "except HttpResponseError as e:\n",
    "    print(\"Analyze text failed.\")\n",
    "    if e.error:\n",
    "        print(f\"Error code: {e.error.code}\")\n",
    "        print(f\"Error message: {e.error.message}\")\n",
    "        raise\n",
    "    print(e)\n",
    "    raise"
   ]
  },
  {
   "cell_type": "markdown",
   "metadata": {},
   "source": [
    "Loop through the API response to retrieve the Content Safety categories."
   ]
  },
  {
   "cell_type": "code",
   "execution_count": null,
   "metadata": {},
   "outputs": [],
   "source": [
    "hate_result = next(item for item in response.categories_analysis if item.category == TextCategory.HATE)\n",
    "self_harm_result = next(item for item in response.categories_analysis if item.category == TextCategory.SELF_HARM)\n",
    "sexual_result = next(item for item in response.categories_analysis if item.category == TextCategory.SEXUAL)\n",
    "violence_result = next(item for item in response.categories_analysis if item.category == TextCategory.VIOLENCE)"
   ]
  },
  {
   "cell_type": "markdown",
   "metadata": {},
   "source": [
    "Print the content safety analysis results.  View which categories were flagged and they severity level."
   ]
  },
  {
   "cell_type": "code",
   "execution_count": null,
   "metadata": {},
   "outputs": [],
   "source": [
    "if hate_result:\n",
    "    print(f\"Hate severity: {hate_result.severity}\")\n",
    "if self_harm_result:\n",
    "    print(f\"Self-Harm severity: {self_harm_result.severity}\")\n",
    "if sexual_result:\n",
    "    print(f\"Sexual severity: {sexual_result.severity}\")\n",
    "if violence_result:\n",
    "    print(f\"Violence severity: {violence_result.severity}\")"
   ]
  },
  {
   "cell_type": "markdown",
   "metadata": {},
   "source": [
    "Great Job!...You can add logic on what action to take based on the results.  For example, if the text is flagged as adult content at a severity threshold level, you can choose to not display the text."
   ]
  }
 ],
 "metadata": {
  "kernelspec": {
   "display_name": "base",
   "language": "python",
   "name": "python3"
  },
  "language_info": {
   "codemirror_mode": {
    "name": "ipython",
    "version": 3
   },
   "file_extension": ".py",
   "mimetype": "text/x-python",
   "name": "python",
   "nbconvert_exporter": "python",
   "pygments_lexer": "ipython3",
   "version": "3.9.16"
  },
  "orig_nbformat": 4
 },
 "nbformat": 4,
 "nbformat_minor": 2
}
